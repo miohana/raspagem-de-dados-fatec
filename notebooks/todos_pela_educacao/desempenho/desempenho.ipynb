{
 "cells": [
  {
   "cell_type": "code",
   "execution_count": 97,
   "metadata": {
    "collapsed": true
   },
   "outputs": [],
   "source": [
    "import csv\n",
    "import numpy as np"
   ]
  },
  {
   "cell_type": "markdown",
   "metadata": {},
   "source": [
    "A notícia divulgada [neste link](http://www2.camara.leg.br/camaranoticias/radio/materias/RADIOAGENCIA/549533-METADE-DOS-ESTUDANTES-DE-8-E-9-ANOS-DE-ESCOLAS-PUBLICAS-NAO-ESTA-ALFABETIZADA,-REVELA-ESTUDO.html) chama a atenção para o baixo índice de alfabetização de estudantes de escolas públicas.\n",
    "\n",
    "> A pesquisa apontou que menos da metade das crianças, 45%, tem desempenho suficiente em leitura e matemática. O índice é um pouco melhor em escrita, com 66%.\n",
    "\n",
    "Este índice é coletado através dos resultados da ANA (Avaliação Nacional da Alfabetização), um dos instrumentos do SAEB (Sistema de Avaliação da Educação Básica). O Plano Nacional de Educação utiliza os dados das avaliações do SAEB como métrica de acompanhamento dos indicadores da Educação, entre eles: o desempenho, ou seja, o aprendizado adequado na idade certa.\n",
    "\n",
    "Maiores informações podem ser encontradas no [Observatório do PNE](http://www.observatoriodopne.org.br/).\n",
    "\n",
    "A meta do Plano Nacional de Educação estabelece que até 2022, 70% ou mais dos alunos terão aprendido o que é adequado para seu ano.\n",
    "\n",
    "Utilizando os dados fornecidos pelo SAEB, podemos verificar o desempenho de diferentes faixas etárias e como se comportam em relação as metas do PNE.\n",
    "\n",
    "No exemplo abaixo, referente ao aprendizado de matemática no oitavo e nono ano do Ensino Fundamental, percebemos que segundo dados coletados em 2015, apenas 18,2% dos estudantes neste cenário apresentam aprendizado adequado."
   ]
  },
  {
   "cell_type": "code",
   "execution_count": 98,
   "metadata": {
    "collapsed": false
   },
   "outputs": [],
   "source": [
    "with open('desempenho.csv', 'r', encoding='cp1252') as arquivo:\n",
    "    reader = csv.reader(arquivo, delimiter=';')\n",
    "    linhas = []\n",
    "    \n",
    "    for linha in reader:\n",
    "        linhas.append(linha)"
   ]
  },
  {
   "cell_type": "code",
   "execution_count": 99,
   "metadata": {
    "collapsed": false,
    "scrolled": true
   },
   "outputs": [],
   "source": [
    "anos = linhas[2][1:]\n",
    "metas = linhas[3][1:]\n",
    "brasil = linhas[4][1:]"
   ]
  },
  {
   "cell_type": "code",
   "execution_count": 100,
   "metadata": {
    "collapsed": false
   },
   "outputs": [],
   "source": [
    "lista = np.array([anos, metas, brasil])\n",
    "lista[lista==''] = '0'"
   ]
  },
  {
   "cell_type": "code",
   "execution_count": 101,
   "metadata": {
    "collapsed": false
   },
   "outputs": [],
   "source": [
    "lista = np.char.replace(lista, ',', '.')\n",
    "lista = lista.astype(np.float)"
   ]
  },
  {
   "cell_type": "code",
   "execution_count": 102,
   "metadata": {
    "collapsed": false
   },
   "outputs": [
    {
     "name": "stdout",
     "output_type": "stream",
     "text": [
      "Dados observados nos últimos anos:\n",
      "1995: 16.8% \n",
      "1997: 16.7% \n",
      "1999: 13.2% \n",
      "2001: 13.4% \n",
      "2003: 14.7% \n",
      "2005: 13.0% \n",
      "2007: 14.3% (0.2% de diferença em relação a meta proposta)\n",
      "2009: 14.8% (-3.1% de diferença em relação a meta proposta)\n",
      "2011: 16.9% (-8.5% de diferença em relação a meta proposta)\n",
      "2013: 16.4% (-20.7% de diferença em relação a meta proposta)\n",
      "2015: 18.2% (-27.2% de diferença em relação a meta proposta)\n"
     ]
    }
   ],
   "source": [
    "print(\"Dados observados nos últimos anos:\")\n",
    "\n",
    "for ano in lista[0]:\n",
    "    indice = np.where(lista[0] == ano)[0][0]\n",
    "    meta = lista[1][indice]\n",
    "    brasil = lista[2][indice]\n",
    "    diferenca = round(brasil - meta, 2)\n",
    "    ano = int(ano)\n",
    "    \n",
    "    if (brasil != 0):\n",
    "        if (meta != 0):\n",
    "            diferenca_meta = f\"({diferenca}% de diferença em relação a meta proposta)\"\n",
    "        else:\n",
    "            diferenca_meta = ''\n",
    "        \n",
    "        print(f'{ano}: {brasil}% {diferenca_meta}')"
   ]
  },
  {
   "cell_type": "code",
   "execution_count": 103,
   "metadata": {
    "collapsed": false
   },
   "outputs": [
    {
     "name": "stdout",
     "output_type": "stream",
     "text": [
      "\n",
      "Taxa média de evolução observada nos últimos 11 anos: 0.14%\n",
      "\n"
     ]
    }
   ],
   "source": [
    "brasil = np.trim_zeros(lista[2])\n",
    "num_anos = len(brasil)\n",
    "evolucao = np.diff(brasil)\n",
    "tme_brasil = round(np.mean(evolucao), 2)\n",
    "print(f'''\n",
    "Taxa média de evolução observada nos últimos {num_anos} anos: {tme_brasil}%\n",
    "''')"
   ]
  },
  {
   "cell_type": "code",
   "execution_count": 72,
   "metadata": {
    "collapsed": false
   },
   "outputs": [
    {
     "name": "stdout",
     "output_type": "stream",
     "text": [
      "\n",
      "Taxa média de evolução observada nas metas do PNE: 7.99%\n",
      "\n"
     ]
    }
   ],
   "source": [
    "metas = np.trim_zeros(lista[1])\n",
    "num_anos = len(metas)\n",
    "evolucao = np.diff(metas)\n",
    "tme_metas = round(np.mean(evolucao), 2)\n",
    "print(f'''\n",
    "Taxa média de evolução observada nas metas do PNE: {tme_metas}%\n",
    "''')"
   ]
  },
  {
   "cell_type": "code",
   "execution_count": 104,
   "metadata": {
    "collapsed": false
   },
   "outputs": [
    {
     "name": "stdout",
     "output_type": "stream",
     "text": [
      "\n",
      "Se mantivermos a mesma média de evolução ao longo dos 6 anos seguintes ao ano de 2015, a expectativa para 2021 é de 19.04%.\n",
      "\n",
      "A diferença entre entre este valor e a meta de 70% estabelecida pelo PNE é de 50.96%.\n",
      "\n"
     ]
    }
   ],
   "source": [
    "meta_2022 = 70\n",
    "ano_final = 2021\n",
    "ultimo_ano_observado = 2015\n",
    "num_anos = ano_final - ultimo_ano_observado\n",
    "expectativa = tme_brasil * (num_anos) + brasil[-1]\n",
    "print(f'''\n",
    "Se mantivermos a mesma média de evolução ao longo dos \\\n",
    "{num_anos} anos seguintes ao ano de {ultimo_ano_observado}, a expectativa \\\n",
    "para {ano_final} é de {expectativa}%.\n",
    "\n",
    "A diferença entre entre este valor e a meta de {meta_2022}% estabelecida pelo PNE é de {(meta_2022 - expectativa)}%.\n",
    "'''\n",
    ")"
   ]
  },
  {
   "cell_type": "markdown",
   "metadata": {},
   "source": [
    "Fonte dos dados: [Todos pela Educação](http://www.todospelaeducacao.org.br/indicadores-da-educacao/5-metas?task=indicador_educacao&id_indicador=15)"
   ]
  }
 ],
 "metadata": {
  "kernelspec": {
   "display_name": "Python 3",
   "language": "python",
   "name": "python3"
  },
  "language_info": {
   "codemirror_mode": {
    "name": "ipython",
    "version": 3
   },
   "file_extension": ".py",
   "mimetype": "text/x-python",
   "name": "python",
   "nbconvert_exporter": "python",
   "pygments_lexer": "ipython3",
   "version": "3.6.0"
  }
 },
 "nbformat": 4,
 "nbformat_minor": 2
}
