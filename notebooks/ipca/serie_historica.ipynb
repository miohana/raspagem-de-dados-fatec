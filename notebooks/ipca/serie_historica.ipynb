{
 "cells": [
  {
   "cell_type": "markdown",
   "metadata": {},
   "source": [
    "[IPCA-15 indica que 2017 vai fechar com menor inflação em 19 anos](https://exame.abril.com.br/economia/previa-da-inflacao-sobe-035-em-dezembro-diz-ibge/)"
   ]
  },
  {
   "cell_type": "code",
   "execution_count": 181,
   "metadata": {
    "collapsed": false
   },
   "outputs": [],
   "source": [
    "import requests\n",
    "import ftplib\n",
    "import xlrd\n",
    "from bs4 import BeautifulSoup\n",
    "from zipfile import ZipFile\n",
    "from urllib.request import urlopen"
   ]
  },
  {
   "cell_type": "code",
   "execution_count": 199,
   "metadata": {
    "collapsed": false
   },
   "outputs": [
    {
     "name": "stdout",
     "output_type": "stream",
     "text": [
      "ftp://ftp.ibge.gov.br/Precos_Indices_de_Precos_ao_Consumidor/IPCA_15/Series_Historicas/ipca-15_SerieHist.zip\n"
     ]
    }
   ],
   "source": [
    "url = 'https://ww2.ibge.gov.br/home/estatistica/indicadores/precos/ipca15/defaultipca15.shtm'\n",
    "html = urlopen(url)\n",
    "soup = BeautifulSoup(html.read(), 'html.parser')\n",
    "url_arquivo = soup.find(\"a\", {\"id\": \"seriesHist\"})['href']\n",
    "print(url_arquivo)"
   ]
  },
  {
   "cell_type": "markdown",
   "metadata": {},
   "source": [
    "Baixa o arquivo do servidor FTP para a máquina local:"
   ]
  },
  {
   "cell_type": "code",
   "execution_count": 67,
   "metadata": {
    "collapsed": false
   },
   "outputs": [
    {
     "data": {
      "text/plain": [
       "'221 Goodbye.'"
      ]
     },
     "execution_count": 67,
     "metadata": {},
     "output_type": "execute_result"
    }
   ],
   "source": [
    "ftp = ftplib.FTP('ftp.ibge.gov.br', 'anonymous')\n",
    "endereco_do_arquivo = '/Precos_Indices_de_Precos_ao_Consumidor/IPCA_15/Series_Historicas/ipca-15_SerieHist.zip'\n",
    "\n",
    "arquivo_local = open('ipca-15-serie-historica.zip', 'wb')\n",
    "\n",
    "ftp.retrbinary(f\"RETR {endereco_do_arquivo}\", arquivo_local.write)\n",
    "arquivo_local.close()\n",
    "ftp.quit()"
   ]
  },
  {
   "cell_type": "code",
   "execution_count": null,
   "metadata": {
    "collapsed": false
   },
   "outputs": [],
   "source": [
    "with ZipFile(arquivo_local.name, 'r') as zfile:\n",
    "    nome_do_arquivo = zfile.filelist[0].filename\n",
    "    zfile.extractall()\n",
    "    arquivo = xlrd.open_workbook(nome_do_arquivo)\n",
    "    planilha = arquivo.sheet_by_index(0)"
   ]
  },
  {
   "cell_type": "code",
   "execution_count": 158,
   "metadata": {
    "collapsed": false,
    "scrolled": true
   },
   "outputs": [],
   "source": [
    "ipca = {}\n",
    "\n",
    "for num_linha in range(planilha.nrows):\n",
    "    linha = planilha.row_values(num_linha)\n",
    "    if isinstance(linha[0], float):\n",
    "        ano = int(linha[0])\n",
    "        \n",
    "        num_linha_dezembro = num_linha + 11\n",
    "        linha_dezembro = planilha.row_values(num_linha_dezembro)\n",
    "        ipca[ano] = linha_dezembro[-1]"
   ]
  },
  {
   "cell_type": "code",
   "execution_count": 159,
   "metadata": {
    "collapsed": false
   },
   "outputs": [
    {
     "name": "stdout",
     "output_type": "stream",
     "text": [
      "6.58\n"
     ]
    }
   ],
   "source": [
    "print(ipca[2016])"
   ]
  },
  {
   "cell_type": "code",
   "execution_count": 157,
   "metadata": {
    "collapsed": false
   },
   "outputs": [
    {
     "name": "stdout",
     "output_type": "stream",
     "text": [
      "2.94\n"
     ]
    }
   ],
   "source": [
    "print(ipca[2017])"
   ]
  },
  {
   "cell_type": "markdown",
   "metadata": {},
   "source": [
    "Os 5 anos que apresentaram o índice mais baixo (ordenados do menor para o maior):"
   ]
  },
  {
   "cell_type": "code",
   "execution_count": 170,
   "metadata": {
    "collapsed": false
   },
   "outputs": [
    {
     "name": "stdout",
     "output_type": "stream",
     "text": [
      "[1998, 2017, 2006, 2009, 2007]\n"
     ]
    }
   ],
   "source": [
    "baixos = sorted(ipca, key=ipca.get)[:5]\n",
    "print(baixos)"
   ]
  },
  {
   "cell_type": "markdown",
   "metadata": {},
   "source": [
    "Perceba que o ano de 2017 ocupa a segunda posição, ou seja, possui o índice IPCA-15 mais baixo desde 1998."
   ]
  },
  {
   "cell_type": "markdown",
   "metadata": {},
   "source": [
    "Para calcular há quanto tempo não se percebe um índice de IPCA-15 tão baixo:"
   ]
  },
  {
   "cell_type": "code",
   "execution_count": 175,
   "metadata": {
    "collapsed": false
   },
   "outputs": [
    {
     "data": {
      "text/plain": [
       "19"
      ]
     },
     "execution_count": 175,
     "metadata": {},
     "output_type": "execute_result"
    }
   ],
   "source": [
    "baixos[1] - baixos[0]"
   ]
  },
  {
   "cell_type": "markdown",
   "metadata": {},
   "source": [
    "Logo, 2017 apresenta a menor inflação em 19 anos"
   ]
  }
 ],
 "metadata": {
  "kernelspec": {
   "display_name": "Python 3",
   "language": "python",
   "name": "python3"
  },
  "language_info": {
   "codemirror_mode": {
    "name": "ipython",
    "version": 3
   },
   "file_extension": ".py",
   "mimetype": "text/x-python",
   "name": "python",
   "nbconvert_exporter": "python",
   "pygments_lexer": "ipython3",
   "version": "3.6.0"
  }
 },
 "nbformat": 4,
 "nbformat_minor": 2
}
